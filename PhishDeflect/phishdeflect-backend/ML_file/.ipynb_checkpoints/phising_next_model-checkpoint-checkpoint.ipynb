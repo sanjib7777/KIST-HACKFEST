{
 "cells": [
  {
   "cell_type": "code",
   "execution_count": 1,
   "id": "6c4cad93-9f58-4db3-9669-53345cf4b91a",
   "metadata": {},
   "outputs": [],
   "source": [
    "import numpy as np\n",
    "import pandas as pd"
   ]
  },
  {
   "cell_type": "code",
   "execution_count": 2,
   "id": "3dc27578-85c0-4d80-b73b-33928d076310",
   "metadata": {},
   "outputs": [
    {
     "data": {
      "text/html": [
       "<div>\n",
       "<style scoped>\n",
       "    .dataframe tbody tr th:only-of-type {\n",
       "        vertical-align: middle;\n",
       "    }\n",
       "\n",
       "    .dataframe tbody tr th {\n",
       "        vertical-align: top;\n",
       "    }\n",
       "\n",
       "    .dataframe thead th {\n",
       "        text-align: right;\n",
       "    }\n",
       "</style>\n",
       "<table border=\"1\" class=\"dataframe\">\n",
       "  <thead>\n",
       "    <tr style=\"text-align: right;\">\n",
       "      <th></th>\n",
       "      <th>URL</th>\n",
       "      <th>Label</th>\n",
       "    </tr>\n",
       "  </thead>\n",
       "  <tbody>\n",
       "    <tr>\n",
       "      <th>41753</th>\n",
       "      <td>casestyling.com/old_aol.1.3/?Login=&amp;amp;Ligert...</td>\n",
       "      <td>bad</td>\n",
       "    </tr>\n",
       "    <tr>\n",
       "      <th>30158</th>\n",
       "      <td>paypal.com.cgi.bin.marketingweb.cmd.login.run....</td>\n",
       "      <td>bad</td>\n",
       "    </tr>\n",
       "    <tr>\n",
       "      <th>394753</th>\n",
       "      <td>musicstack.com/records-cds/ras+kass</td>\n",
       "      <td>good</td>\n",
       "    </tr>\n",
       "    <tr>\n",
       "      <th>3567</th>\n",
       "      <td>hab.bo/nrcILX</td>\n",
       "      <td>bad</td>\n",
       "    </tr>\n",
       "    <tr>\n",
       "      <th>232465</th>\n",
       "      <td>punkmusic.about.com/od/reviews/fr/scrapethewal...</td>\n",
       "      <td>good</td>\n",
       "    </tr>\n",
       "  </tbody>\n",
       "</table>\n",
       "</div>"
      ],
      "text/plain": [
       "                                                      URL Label\n",
       "41753   casestyling.com/old_aol.1.3/?Login=&amp;Ligert...   bad\n",
       "30158   paypal.com.cgi.bin.marketingweb.cmd.login.run....   bad\n",
       "394753                musicstack.com/records-cds/ras+kass  good\n",
       "3567                                        hab.bo/nrcILX   bad\n",
       "232465  punkmusic.about.com/od/reviews/fr/scrapethewal...  good"
      ]
     },
     "execution_count": 2,
     "metadata": {},
     "output_type": "execute_result"
    }
   ],
   "source": [
    "df = pd.read_csv('phising_url.csv')\n",
    "df.sample(5)\n"
   ]
  },
  {
   "cell_type": "code",
   "execution_count": 3,
   "id": "785b6aa3-bd32-4778-8de7-ad7ecd3d7230",
   "metadata": {},
   "outputs": [
    {
     "name": "stdout",
     "output_type": "stream",
     "text": [
      "<class 'pandas.core.frame.DataFrame'>\n",
      "RangeIndex: 549346 entries, 0 to 549345\n",
      "Data columns (total 2 columns):\n",
      " #   Column  Non-Null Count   Dtype \n",
      "---  ------  --------------   ----- \n",
      " 0   URL     549346 non-null  object\n",
      " 1   Label   549346 non-null  object\n",
      "dtypes: object(2)\n",
      "memory usage: 8.4+ MB\n"
     ]
    }
   ],
   "source": [
    "df.info()\n"
   ]
  },
  {
   "cell_type": "code",
   "execution_count": 4,
   "id": "8bd69f88-12fe-43e2-94be-a968da89f8bc",
   "metadata": {},
   "outputs": [],
   "source": [
    "from sklearn.preprocessing import LabelEncoder\n",
    "encoder = LabelEncoder()"
   ]
  },
  {
   "cell_type": "code",
   "execution_count": 6,
   "id": "8e75b0c0-94cc-4c94-b7ab-75f77b955d1e",
   "metadata": {},
   "outputs": [
    {
     "data": {
      "text/html": [
       "<div>\n",
       "<style scoped>\n",
       "    .dataframe tbody tr th:only-of-type {\n",
       "        vertical-align: middle;\n",
       "    }\n",
       "\n",
       "    .dataframe tbody tr th {\n",
       "        vertical-align: top;\n",
       "    }\n",
       "\n",
       "    .dataframe thead th {\n",
       "        text-align: right;\n",
       "    }\n",
       "</style>\n",
       "<table border=\"1\" class=\"dataframe\">\n",
       "  <thead>\n",
       "    <tr style=\"text-align: right;\">\n",
       "      <th></th>\n",
       "      <th>URL</th>\n",
       "      <th>Label</th>\n",
       "    </tr>\n",
       "  </thead>\n",
       "  <tbody>\n",
       "    <tr>\n",
       "      <th>0</th>\n",
       "      <td>nobell.it/70ffb52d079109dca5664cce6f317373782/...</td>\n",
       "      <td>0</td>\n",
       "    </tr>\n",
       "    <tr>\n",
       "      <th>1</th>\n",
       "      <td>www.dghjdgf.com/paypal.co.uk/cycgi-bin/webscrc...</td>\n",
       "      <td>0</td>\n",
       "    </tr>\n",
       "    <tr>\n",
       "      <th>2</th>\n",
       "      <td>serviciosbys.com/paypal.cgi.bin.get-into.herf....</td>\n",
       "      <td>0</td>\n",
       "    </tr>\n",
       "    <tr>\n",
       "      <th>3</th>\n",
       "      <td>mail.printakid.com/www.online.americanexpress....</td>\n",
       "      <td>0</td>\n",
       "    </tr>\n",
       "    <tr>\n",
       "      <th>4</th>\n",
       "      <td>thewhiskeydregs.com/wp-content/themes/widescre...</td>\n",
       "      <td>0</td>\n",
       "    </tr>\n",
       "  </tbody>\n",
       "</table>\n",
       "</div>"
      ],
      "text/plain": [
       "                                                 URL  Label\n",
       "0  nobell.it/70ffb52d079109dca5664cce6f317373782/...      0\n",
       "1  www.dghjdgf.com/paypal.co.uk/cycgi-bin/webscrc...      0\n",
       "2  serviciosbys.com/paypal.cgi.bin.get-into.herf....      0\n",
       "3  mail.printakid.com/www.online.americanexpress....      0\n",
       "4  thewhiskeydregs.com/wp-content/themes/widescre...      0"
      ]
     },
     "execution_count": 6,
     "metadata": {},
     "output_type": "execute_result"
    }
   ],
   "source": [
    "df['Label'] = encoder.fit_transform(df['Label'])\n",
    "df.head()"
   ]
  },
  {
   "cell_type": "code",
   "execution_count": 7,
   "id": "e8799db4-e4cd-4960-8e61-db89bfb5c314",
   "metadata": {},
   "outputs": [
    {
     "data": {
      "text/plain": [
       "URL      0\n",
       "Label    0\n",
       "dtype: int64"
      ]
     },
     "execution_count": 7,
     "metadata": {},
     "output_type": "execute_result"
    }
   ],
   "source": [
    "df.isnull().sum()"
   ]
  },
  {
   "cell_type": "code",
   "execution_count": 8,
   "id": "1f1240a4-41ea-4a50-8d3f-73008f519599",
   "metadata": {},
   "outputs": [
    {
     "data": {
      "text/plain": [
       "42150"
      ]
     },
     "execution_count": 8,
     "metadata": {},
     "output_type": "execute_result"
    }
   ],
   "source": [
    "df.duplicated().sum()\n"
   ]
  },
  {
   "cell_type": "code",
   "execution_count": 10,
   "id": "d8a5959c-3f71-482c-8831-52cd42e5fae7",
   "metadata": {},
   "outputs": [],
   "source": [
    "df=df.drop_duplicates(keep='first')"
   ]
  },
  {
   "cell_type": "code",
   "execution_count": 11,
   "id": "1092e855-0422-4014-bfc8-1fc32013adee",
   "metadata": {},
   "outputs": [
    {
     "data": {
      "text/plain": [
       "0"
      ]
     },
     "execution_count": 11,
     "metadata": {},
     "output_type": "execute_result"
    }
   ],
   "source": [
    "df.duplicated().sum()"
   ]
  },
  {
   "cell_type": "code",
   "execution_count": 13,
   "id": "792188e8-6db1-47b1-839d-948468f85cef",
   "metadata": {},
   "outputs": [
    {
     "data": {
      "text/plain": [
       "(507196, 2)"
      ]
     },
     "execution_count": 13,
     "metadata": {},
     "output_type": "execute_result"
    }
   ],
   "source": [
    "df.shape"
   ]
  },
  {
   "cell_type": "code",
   "execution_count": 15,
   "id": "ead6e401-7138-4360-b71e-7a7075f44e1b",
   "metadata": {},
   "outputs": [],
   "source": [
    "import seaborn as sns\n"
   ]
  },
  {
   "cell_type": "code",
   "execution_count": 16,
   "id": "f39e89e0-cf9f-49d8-8534-90134ce55bec",
   "metadata": {},
   "outputs": [
    {
     "data": {
      "text/plain": [
       "<Axes: xlabel='Label', ylabel='Label_Counts'>"
      ]
     },
     "execution_count": 16,
     "metadata": {},
     "output_type": "execute_result"
    },
    {
     "data": {
      "image/png": "[encoded data removed]",
      "text/plain": [
       "<Figure size 640x480 with 1 Axes>"
      ]
     },
     "metadata": {},
     "output_type": "display_data"
    }
   ],
   "source": [
    "label_counts = pd.DataFrame(df['Label'].value_counts())\n",
    "\n",
    "# Rename the column to 'Label_Counts' (or any other descriptive name)\n",
    "label_counts.columns = ['Label_Counts']\n",
    "\n",
    "# Reset the index to convert the index to a column\n",
    "label_counts.reset_index(inplace=True)\n",
    "label_counts.rename(columns={'index': 'Label'}, inplace=True)\n",
    "sns.barplot(data=label_counts, x='Label', y='Label_Counts')"
   ]
  },
  {
   "cell_type": "code",
   "execution_count": 26,
   "id": "46097394-0f3b-4ada-a287-55adcabab92a",
   "metadata": {},
   "outputs": [],
   "source": [
    "import nltk\n",
    "from wordcloud import WordCloud, STOPWORDS, ImageColorGenerator\n"
   ]
  },
  {
   "cell_type": "code",
   "execution_count": 35,
   "id": "e7c74461-78d7-4c04-b2b7-340719cd8030",
   "metadata": {},
   "outputs": [
    {
     "name": "stderr",
     "output_type": "stream",
     "text": [
      "[nltk_data] Downloading package punkt to C:\\Users\\Thakuri Ingh\n",
      "[nltk_data]     chakra\\AppData\\Roaming\\nltk_data...\n",
      "[nltk_data]   Package punkt is already up-to-date!\n",
      "[nltk_data] Downloading package stopwords to C:\\Users\\Thakuri Ingh\n",
      "[nltk_data]     chakra\\AppData\\Roaming\\nltk_data...\n",
      "[nltk_data]   Package stopwords is already up-to-date!\n"
     ]
    }
   ],
   "source": [
    "import nltk\n",
    "from nltk.corpus import stopwords\n",
    "from nltk.stem import PorterStemmer\n",
    "import string\n",
    "\n",
    "nltk.download('punkt')\n",
    "nltk.download('stopwords')\n",
    "\n",
    "def transform_text(text):\n",
    "    # Convert text to lowercase\n",
    "    text = text.lower()\n",
    "    \n",
    "    # Tokenize the text\n",
    "    text = nltk.word_tokenize(text)\n",
    "    \n",
    "    # Initialize a list to store alphanumeric tokens\n",
    "    y = []\n",
    "    for i in text:\n",
    "        if i.isalnum() or i in string.punctuation:\n",
    "            y.append(i)\n",
    "    \n",
    "    # Clear text and use y for further processing\n",
    "    text = y[:]\n",
    "    y.clear()\n",
    "    \n",
    "    # Initialize stop words\n",
    "    stop_words = set(stopwords.words('english'))\n",
    "    \n",
    "    # Filter out stop words\n",
    "    for i in text:\n",
    "        if i not in stop_words:\n",
    "            y.append(i)\n",
    "            \n",
    "    # Clear text and use y for further processing\n",
    "    text = y[:]\n",
    "    y.clear()\n",
    "    \n",
    "    # Initialize the Porter Stemmer\n",
    "    ps = PorterStemmer()\n",
    "    \n",
    "    # Apply stemming\n",
    "    for i in text:\n",
    "        # Only stem alphanumeric words, leave punctuation as is\n",
    "        if i.isalnum():\n",
    "            y.append(ps.stem(i))\n",
    "        else:\n",
    "            y.append(i)\n",
    "    \n",
    "    # Return the processed text as a single string\n",
    "    return \" \".join(y)\n",
    "\n",
    "\n"
   ]
  },
  {
   "cell_type": "code",
   "execution_count": 36,
   "id": "f3b4032f-ddaf-4a4f-b944-9176b548469e",
   "metadata": {},
   "outputs": [
    {
     "name": "stdout",
     "output_type": "stream",
     "text": [
      "exampl sentenc demonstr use text transform\n"
     ]
    }
   ],
   "source": [
    "# Example usage:\n",
    "text = \"This is an example sentence, demonstrating the use of text transformation!\"\n",
    "transformed_text = transform_text(text)\n",
    "print(transformed_text)\n"
   ]
  },
  {
   "cell_type": "code",
   "execution_count": null,
   "id": "c70c4820-8189-46ca-8066-5ebe907b4862",
   "metadata": {},
   "outputs": [],
   "source": []
  }
 ],
 "metadata": {
  "kernelspec": {
   "display_name": "Python 3 (ipykernel)",
   "language": "python",
   "name": "python3"
  },
  "language_info": {
   "codemirror_mode": {
    "name": "ipython",
    "version": 3
   },
   "file_extension": ".py",
   "mimetype": "text/x-python",
   "name": "python",
   "nbconvert_exporter": "python",
   "pygments_lexer": "ipython3",
   "version": "3.11.8"
  }
 },
 "nbformat": 4,
 "nbformat_minor": 5
}
